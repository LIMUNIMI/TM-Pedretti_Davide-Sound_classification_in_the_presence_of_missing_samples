{
  "cells": [
    {
      "cell_type": "markdown",
      "metadata": {
        "id": "se72FtQZvfeJ"
      },
      "source": [
        "# Loading Yamnet from weights for classification of spectrograms"
      ]
    },
    {
      "cell_type": "markdown",
      "source": [
        "Loading YAMNet from weights following the instructions from https://github.com/tensorflow/models/tree/master/research/audioset/yamnet"
      ],
      "metadata": {
        "id": "C61yzTgRInuU"
      }
    },
    {
      "cell_type": "code",
      "execution_count": 1,
      "metadata": {
        "id": "iK48AP8MvNWG"
      },
      "outputs": [],
      "source": [
        "import numpy as np\n",
        "import tensorflow as tf\n",
        "from tensorflow.keras import layers, models\n",
        "import tensorflow.keras as keras\n",
        "import matplotlib.pyplot as plt\n",
        "import pandas as pd\n",
        "import random \n",
        "import copy\n",
        "from numpy import savez_compressed, load\n",
        "import keras.backend as K\n",
        "from keras import regularizers\n",
        "from keras.layers import Lambda,InputLayer\n",
        "from keras.layers.convolutional import Conv2D, MaxPooling2D, UpSampling2D\n",
        "#from keras.layers.advanced_activations import LeakyReLU\n",
        "from keras.layers.core import Activation, Dense\n",
        "from keras.layers import Input, Dense, Reshape, Flatten, Dropout, multiply, GaussianNoise, Conv2DTranspose\n",
        "from keras.models import Sequential, Model\n",
        "from tensorflow.keras.layers import BatchNormalization\n",
        "from tensorflow.keras.optimizers import Adam\n",
        "from keras.models import Sequential\n",
        "from sklearn.model_selection import train_test_split\n",
        "import librosa\n",
        "import librosa.display\n",
        "import gc\n",
        "import IPython.display as ipd\n",
        "from tqdm import tqdm"
      ]
    },
    {
      "cell_type": "markdown",
      "metadata": {
        "id": "mhkPUojTkNCQ"
      },
      "source": [
        "## Helper functions\n",
        "\n",
        "### Yamnet parameters"
      ]
    },
    {
      "cell_type": "code",
      "execution_count": 2,
      "metadata": {
        "id": "IHO_WV0vkNCR"
      },
      "outputs": [],
      "source": [
        "\"\"\"Hyperparameters for YAMNet.\"\"\"\n",
        "\n",
        "from dataclasses import dataclass\n",
        "\n",
        "# The following hyperparameters (except patch_hop_seconds) were used to train YAMNet,\n",
        "# so expect some variability in performance if you change these. The patch hop can\n",
        "# be changed arbitrarily: a smaller hop should give you more patches from the same\n",
        "# clip and possibly better performance at a larger computational cost.\n",
        "@dataclass(frozen=True)  # Instances of this class are immutable.\n",
        "class Params:\n",
        "  sample_rate: float = 16000.0\n",
        "  stft_window_seconds: float = 0.025\n",
        "  stft_hop_seconds: float = 0.010\n",
        "  mel_bands: int = 64\n",
        "  mel_min_hz: float = 125.0\n",
        "  mel_max_hz: float = 7500.0\n",
        "  log_offset: float = 0.001\n",
        "  patch_window_seconds: float = 0.96\n",
        "  patch_hop_seconds: float = 0.48\n",
        "\n",
        "  @property\n",
        "  def patch_frames(self):\n",
        "    return int(round(self.patch_window_seconds / self.stft_hop_seconds))\n",
        "\n",
        "  @property\n",
        "  def patch_bands(self):\n",
        "    return self.mel_bands\n",
        "\n",
        "  num_classes: int = 521\n",
        "  conv_padding: str = 'same'\n",
        "  batchnorm_center: bool = True\n",
        "  batchnorm_scale: bool = False\n",
        "  batchnorm_epsilon: float = 1e-4\n",
        "  classifier_activation: str = 'sigmoid'\n",
        "\n",
        "  tflite_compatible: bool = False"
      ]
    },
    {
      "cell_type": "markdown",
      "metadata": {
        "id": "ZeLgZMOnkNCS"
      },
      "source": [
        "### Feature computation functions"
      ]
    },
    {
      "cell_type": "code",
      "execution_count": 3,
      "metadata": {
        "id": "1_OywFRvkNCT"
      },
      "outputs": [],
      "source": [
        "\"\"\"Feature computation for YAMNet.\"\"\"\n",
        "\n",
        "import numpy as np\n",
        "import tensorflow as tf\n",
        "\n",
        "\n",
        "def waveform_to_log_mel_spectrogram_patches(waveform, params):\n",
        "  \"\"\"Compute log mel spectrogram patches of a 1-D waveform.\"\"\"\n",
        "  with tf.name_scope('log_mel_features'):\n",
        "    # waveform has shape [<# samples>]\n",
        "\n",
        "    # Convert waveform into spectrogram using a Short-Time Fourier Transform.\n",
        "    # Note that tf.signal.stft() uses a periodic Hann window by default.\n",
        "    window_length_samples = int(\n",
        "      round(params.sample_rate * params.stft_window_seconds))\n",
        "    hop_length_samples = int(\n",
        "      round(params.sample_rate * params.stft_hop_seconds))\n",
        "    fft_length = 2 ** int(np.ceil(np.log(window_length_samples) / np.log(2.0)))\n",
        "    num_spectrogram_bins = fft_length // 2 + 1\n",
        "    if params.tflite_compatible:\n",
        "      magnitude_spectrogram = _tflite_stft_magnitude(\n",
        "          signal=waveform,\n",
        "          frame_length=window_length_samples,\n",
        "          frame_step=hop_length_samples,\n",
        "          fft_length=fft_length)\n",
        "    else:\n",
        "      magnitude_spectrogram = tf.abs(tf.signal.stft(\n",
        "          signals=waveform,\n",
        "          frame_length=window_length_samples,\n",
        "          frame_step=hop_length_samples,\n",
        "          fft_length=fft_length))\n",
        "    # magnitude_spectrogram has shape [<# STFT frames>, num_spectrogram_bins]\n",
        "\n",
        "    # Convert spectrogram into log mel spectrogram.\n",
        "    linear_to_mel_weight_matrix = tf.signal.linear_to_mel_weight_matrix(\n",
        "        num_mel_bins=params.mel_bands,\n",
        "        num_spectrogram_bins=num_spectrogram_bins,\n",
        "        sample_rate=params.sample_rate,\n",
        "        lower_edge_hertz=params.mel_min_hz,\n",
        "        upper_edge_hertz=params.mel_max_hz)\n",
        "    mel_spectrogram = tf.matmul(\n",
        "      magnitude_spectrogram, linear_to_mel_weight_matrix)\n",
        "    log_mel_spectrogram = tf.math.log(mel_spectrogram + params.log_offset)\n",
        "    # log_mel_spectrogram has shape [<# STFT frames>, params.mel_bands]\n",
        "\n",
        "    # Frame spectrogram (shape [<# STFT frames>, params.mel_bands]) into patches\n",
        "    # (the input examples). Only complete frames are emitted, so if there is\n",
        "    # less than params.patch_window_seconds of waveform then nothing is emitted\n",
        "    # (to avoid this, zero-pad before processing).\n",
        "    spectrogram_hop_length_samples = int(\n",
        "      round(params.sample_rate * params.stft_hop_seconds))\n",
        "    spectrogram_sample_rate = params.sample_rate / spectrogram_hop_length_samples\n",
        "    patch_window_length_samples = int(\n",
        "      round(spectrogram_sample_rate * params.patch_window_seconds))\n",
        "    patch_hop_length_samples = int(\n",
        "      round(spectrogram_sample_rate * params.patch_hop_seconds))\n",
        "    features = tf.signal.frame(\n",
        "        signal=log_mel_spectrogram,\n",
        "        frame_length=patch_window_length_samples,\n",
        "        frame_step=patch_hop_length_samples,\n",
        "        axis=0)\n",
        "    # features has shape [<# patches>, <# STFT frames in an patch>, params.mel_bands]\n",
        "\n",
        "    return log_mel_spectrogram, features\n",
        "\n",
        "\n",
        "def pad_waveform(waveform, params):\n",
        "  \"\"\"Pads waveform with silence if needed to get an integral number of patches.\"\"\"\n",
        "  # In order to produce one patch of log mel spectrogram input to YAMNet, we\n",
        "  # need at least one patch window length of waveform plus enough extra samples\n",
        "  # to complete the final STFT analysis window.\n",
        "  min_waveform_seconds = (\n",
        "      params.patch_window_seconds +\n",
        "      params.stft_window_seconds - params.stft_hop_seconds)\n",
        "  min_num_samples = tf.cast(min_waveform_seconds * params.sample_rate, tf.int32)\n",
        "  num_samples = tf.shape(waveform)[0]\n",
        "  num_padding_samples = tf.maximum(0, min_num_samples - num_samples)\n",
        "\n",
        "  # In addition, there might be enough waveform for one or more additional\n",
        "  # patches formed by hopping forward. If there are more samples than one patch,\n",
        "  # round up to an integral number of hops.\n",
        "  num_samples = tf.maximum(num_samples, min_num_samples)\n",
        "  num_samples_after_first_patch = num_samples - min_num_samples\n",
        "  hop_samples = tf.cast(params.patch_hop_seconds * params.sample_rate, tf.int32)\n",
        "  num_hops_after_first_patch = tf.cast(tf.math.ceil(\n",
        "          tf.cast(num_samples_after_first_patch, tf.float32) /\n",
        "          tf.cast(hop_samples, tf.float32)), tf.int32)\n",
        "  num_padding_samples += (\n",
        "      hop_samples * num_hops_after_first_patch - num_samples_after_first_patch)\n",
        "\n",
        "  padded_waveform = tf.pad(waveform, [[0, num_padding_samples]],\n",
        "                           mode='CONSTANT', constant_values=0.0)\n",
        "  return padded_waveform\n",
        "\n",
        "\n",
        "def _tflite_stft_magnitude(signal, frame_length, frame_step, fft_length):\n",
        "  \"\"\"TF-Lite-compatible version of tf.abs(tf.signal.stft()).\"\"\"\n",
        "  def _hann_window():\n",
        "    return tf.reshape(\n",
        "      tf.constant(\n",
        "          (0.5 - 0.5 * np.cos(2 * np.pi * np.arange(0, 1.0, 1.0 / frame_length))\n",
        "          ).astype(np.float32),\n",
        "          name='hann_window'), [1, frame_length])\n",
        "\n",
        "  def _dft_matrix(dft_length):\n",
        "    \"\"\"Calculate the full DFT matrix in NumPy.\"\"\"\n",
        "    # See https://en.wikipedia.org/wiki/DFT_matrix\n",
        "    omega = (0 + 1j) * 2.0 * np.pi / float(dft_length)\n",
        "    # Don't include 1/sqrt(N) scaling, tf.signal.rfft doesn't apply it.\n",
        "    return np.exp(omega * np.outer(np.arange(dft_length), np.arange(dft_length)))\n",
        "\n",
        "  def _rdft(framed_signal, fft_length):\n",
        "    \"\"\"Implement real-input Discrete Fourier Transform by matmul.\"\"\"\n",
        "    # We are right-multiplying by the DFT matrix, and we are keeping only the\n",
        "    # first half (\"positive frequencies\").  So discard the second half of rows,\n",
        "    # but transpose the array for right-multiplication.  The DFT matrix is\n",
        "    # symmetric, so we could have done it more directly, but this reflects our\n",
        "    # intention better.\n",
        "    complex_dft_matrix_kept_values = _dft_matrix(fft_length)[:(\n",
        "        fft_length // 2 + 1), :].transpose()\n",
        "    real_dft_matrix = tf.constant(\n",
        "        np.real(complex_dft_matrix_kept_values).astype(np.float32),\n",
        "        name='real_dft_matrix')\n",
        "    imag_dft_matrix = tf.constant(\n",
        "        np.imag(complex_dft_matrix_kept_values).astype(np.float32),\n",
        "        name='imaginary_dft_matrix')\n",
        "    signal_frame_length = tf.shape(framed_signal)[-1]\n",
        "    half_pad = (fft_length - signal_frame_length) // 2\n",
        "    padded_frames = tf.pad(\n",
        "        framed_signal,\n",
        "        [\n",
        "            # Don't add any padding in the frame dimension.\n",
        "            [0, 0],\n",
        "            # Pad before and after the signal within each frame.\n",
        "            [half_pad, fft_length - signal_frame_length - half_pad]\n",
        "        ],\n",
        "        mode='CONSTANT',\n",
        "        constant_values=0.0)\n",
        "    real_stft = tf.matmul(padded_frames, real_dft_matrix)\n",
        "    imag_stft = tf.matmul(padded_frames, imag_dft_matrix)\n",
        "    return real_stft, imag_stft\n",
        "\n",
        "  def _complex_abs(real, imag):\n",
        "    return tf.sqrt(tf.add(real * real, imag * imag))\n",
        "\n",
        "  framed_signal = tf.signal.frame(signal, frame_length, frame_step)\n",
        "  windowed_signal = framed_signal * _hann_window()\n",
        "  real_stft, imag_stft = _rdft(windowed_signal, fft_length)\n",
        "  stft_magnitude = _complex_abs(real_stft, imag_stft)\n",
        "  return stft_magnitude"
      ]
    },
    {
      "cell_type": "markdown",
      "metadata": {
        "id": "FRhT3xG0kNCX"
      },
      "source": [
        "#### Modified pad waveform to include parameters"
      ]
    },
    {
      "cell_type": "code",
      "execution_count": 4,
      "metadata": {
        "id": "EjLiW5VekNCY"
      },
      "outputs": [],
      "source": [
        "def pad_waveform(waveform, params):\n",
        "  sample_rate = 16000.0\n",
        "  stft_window_seconds = 0.025\n",
        "  stft_hop_seconds = 0.010\n",
        "  mel_bands = 64\n",
        "  mel_min_hz = 125.0\n",
        "  mel_max_hz = 7500.0\n",
        "  log_offset = 0.001\n",
        "  patch_window_seconds = 0.96\n",
        "  patch_hop_seconds = 0.48\n",
        "  \n",
        "  \"\"\"Pads waveform with silence if needed to get an integral number of patches.\"\"\"\n",
        "  # In order to produce one patch of log mel spectrogram input to YAMNet, we\n",
        "  # need at least one patch window length of waveform plus enough extra samples\n",
        "  # to complete the final STFT analysis window.\n",
        "  min_waveform_seconds = (\n",
        "      patch_window_seconds +\n",
        "      stft_window_seconds - stft_hop_seconds)\n",
        "  min_num_samples = tf.cast(min_waveform_seconds * sample_rate, tf.int32)\n",
        "  num_samples = tf.shape(waveform)[0]\n",
        "  num_padding_samples = tf.maximum(0, min_num_samples - num_samples)\n",
        "\n",
        "  # In addition, there might be enough waveform for one or more additional\n",
        "  # patches formed by hopping forward. If there are more samples than one patch,\n",
        "  # round up to an integral number of hops.\n",
        "  num_samples = tf.maximum(num_samples, min_num_samples)\n",
        "  num_samples_after_first_patch = num_samples - min_num_samples\n",
        "  hop_samples = tf.cast(params.patch_hop_seconds * sample_rate, tf.int32)\n",
        "  num_hops_after_first_patch = tf.cast(tf.math.ceil(\n",
        "          tf.cast(num_samples_after_first_patch, tf.float32) /\n",
        "          tf.cast(hop_samples, tf.float32)), tf.int32)\n",
        "  num_padding_samples += (\n",
        "      hop_samples * num_hops_after_first_patch - num_samples_after_first_patch)\n",
        "\n",
        "  padded_waveform = tf.pad(waveform, [[0, num_padding_samples]],\n",
        "                           mode='CONSTANT', constant_values=0.0)\n",
        "  return padded_waveform"
      ]
    },
    {
      "cell_type": "markdown",
      "metadata": {
        "id": "TV2lBtbZkNCZ"
      },
      "source": [
        "### Yamnet core model"
      ]
    },
    {
      "cell_type": "code",
      "execution_count": 5,
      "metadata": {
        "id": "VD0lyneXkNCZ"
      },
      "outputs": [],
      "source": [
        "def _batch_norm(name, params):\n",
        "  def _bn_layer(layer_input):\n",
        "    return layers.BatchNormalization(\n",
        "      name=name,\n",
        "      center=params.batchnorm_center,\n",
        "      scale=params.batchnorm_scale,\n",
        "      epsilon=params.batchnorm_epsilon)(layer_input)\n",
        "  return _bn_layer\n",
        "\n",
        "\n",
        "def _conv(name, kernel, stride, filters, params):\n",
        "  def _conv_layer(layer_input):\n",
        "    output = layers.Conv2D(name='{}/conv'.format(name),\n",
        "                           filters=filters,\n",
        "                           kernel_size=kernel,\n",
        "                           strides=stride,\n",
        "                           padding=params.conv_padding,\n",
        "                           use_bias=False,\n",
        "                           activation=None)(layer_input)\n",
        "    output = _batch_norm('{}/conv/bn'.format(name), params)(output)\n",
        "    output = layers.ReLU(name='{}/relu'.format(name))(output)\n",
        "    return output\n",
        "  return _conv_layer\n",
        "\n",
        "\n",
        "def _separable_conv(name, kernel, stride, filters, params):\n",
        "  def _separable_conv_layer(layer_input):\n",
        "    output = layers.DepthwiseConv2D(name='{}/depthwise_conv'.format(name),\n",
        "                                    kernel_size=kernel,\n",
        "                                    strides=stride,\n",
        "                                    depth_multiplier=1,\n",
        "                                    padding=params.conv_padding,\n",
        "                                    use_bias=False,\n",
        "                                    activation=None)(layer_input)\n",
        "    output = _batch_norm('{}/depthwise_conv/bn'.format(name), params)(output)\n",
        "    output = layers.ReLU(name='{}/depthwise_conv/relu'.format(name))(output)\n",
        "    output = layers.Conv2D(name='{}/pointwise_conv'.format(name),\n",
        "                           filters=filters,\n",
        "                           kernel_size=(1, 1),\n",
        "                           strides=1,\n",
        "                           padding=params.conv_padding,\n",
        "                           use_bias=False,\n",
        "                           activation=None)(output)\n",
        "    output = _batch_norm('{}/pointwise_conv/bn'.format(name), params)(output)\n",
        "    output = layers.ReLU(name='{}/pointwise_conv/relu'.format(name))(output)\n",
        "    return output\n",
        "  return _separable_conv_layer\n",
        "\n",
        "\n",
        "_YAMNET_LAYER_DEFS = [\n",
        "    # (layer_function, kernel, stride, num_filters)\n",
        "    (_conv,          [3, 3], 2,   32),\n",
        "    (_separable_conv, [3, 3], 1,   64),\n",
        "    (_separable_conv, [3, 3], 2,  128),\n",
        "    (_separable_conv, [3, 3], 1,  128),\n",
        "    (_separable_conv, [3, 3], 2,  256),\n",
        "    (_separable_conv, [3, 3], 1,  256),\n",
        "    (_separable_conv, [3, 3], 2,  512),\n",
        "    (_separable_conv, [3, 3], 1,  512),\n",
        "    (_separable_conv, [3, 3], 1,  512),\n",
        "    (_separable_conv, [3, 3], 1,  512),\n",
        "    (_separable_conv, [3, 3], 1,  512),\n",
        "    (_separable_conv, [3, 3], 1,  512),\n",
        "    (_separable_conv, [3, 3], 2, 1024),\n",
        "    (_separable_conv, [3, 3], 1, 1024)\n",
        "]\n",
        "\n",
        "def yamnet(features, params):\n",
        "  \"\"\"Define the core YAMNet mode in Keras.\"\"\"\n",
        "  net = layers.Reshape(\n",
        "      (params.patch_frames, params.patch_bands, 1),\n",
        "      input_shape=(params.patch_frames, params.patch_bands))(features)\n",
        "  for (i, (layer_fun, kernel, stride, filters)) in enumerate(_YAMNET_LAYER_DEFS):\n",
        "    net = layer_fun('layer{}'.format(i + 1), kernel, stride, filters, params)(net)\n",
        "  embeddings = layers.GlobalAveragePooling2D()(net)\n",
        "  logits = layers.Dense(units=params.num_classes, use_bias=True)(embeddings)\n",
        "  predictions = layers.Activation(activation=params.classifier_activation)(logits)\n",
        "  return predictions, embeddings\n",
        "\n",
        "\n",
        "def yamnet_frames_model(params):\n",
        "  \"\"\"Defines the YAMNet waveform-to-class-scores model.\n",
        "  Args:\n",
        "    params: An instance of Params containing hyperparameters.\n",
        "  Returns:\n",
        "    A model accepting (num_samples,) waveform input and emitting:\n",
        "    - predictions: (num_patches, num_classes) matrix of class scores per time frame\n",
        "    - embeddings: (num_patches, embedding size) matrix of embeddings per time frame\n",
        "    - log_mel_spectrogram: (num_spectrogram_frames, num_mel_bins) spectrogram feature matrix\n",
        "  \"\"\"\n",
        "  waveform = layers.Input(batch_shape=(None,), dtype=tf.float32)\n",
        "  waveform_padded = pad_waveform(waveform, params)\n",
        "  log_mel_spectrogram, features = waveform_to_log_mel_spectrogram_patches(\n",
        "      waveform_padded, params)\n",
        "  predictions, embeddings = yamnet(features, params)\n",
        "  frames_model = Model(\n",
        "      name='yamnet_frames', inputs=waveform,\n",
        "      outputs=[predictions, embeddings, log_mel_spectrogram])\n",
        "  return frames_model"
      ]
    },
    {
      "cell_type": "code",
      "execution_count": 6,
      "metadata": {
        "colab": {
          "base_uri": "https://localhost:8080/"
        },
        "id": "J1P5uM70vsGH",
        "outputId": "f04b27dc-5542-4031-95a0-39d616bdbf6d"
      },
      "outputs": [
        {
          "output_type": "stream",
          "name": "stdout",
          "text": [
            "Drive already mounted at /content/gdrive; to attempt to forcibly remount, call drive.mount(\"/content/gdrive\", force_remount=True).\n"
          ]
        }
      ],
      "source": [
        "from google.colab import drive\n",
        "drive.mount('/content/gdrive')"
      ]
    },
    {
      "cell_type": "markdown",
      "metadata": {
        "id": "B3JvZaDnkNCf"
      },
      "source": [
        "### Yamnet loading from code and weights"
      ]
    },
    {
      "cell_type": "code",
      "execution_count": 7,
      "metadata": {
        "id": "0OTm-4jykNCg"
      },
      "outputs": [],
      "source": [
        "params = Params()\n",
        "yamnet = yamnet_frames_model(params)\n",
        "yamnet.load_weights(\"/content/gdrive/MyDrive/weights/yamnet.h5\")"
      ]
    },
    {
      "cell_type": "code",
      "execution_count": 8,
      "metadata": {
        "colab": {
          "base_uri": "https://localhost:8080/"
        },
        "id": "y4f-aqLIkNCg",
        "outputId": "663d6324-db56-4371-bdca-4eaf1fe3edca"
      },
      "outputs": [
        {
          "output_type": "stream",
          "name": "stdout",
          "text": [
            "Model: \"yamnet_frames\"\n",
            "__________________________________________________________________________________________________\n",
            " Layer (type)                   Output Shape         Param #     Connected to                     \n",
            "==================================================================================================\n",
            " input_1 (InputLayer)           [(None,)]            0           []                               \n",
            "                                                                                                  \n",
            " tf.compat.v1.shape (TFOpLambda  (1,)                0           ['input_1[0][0]']                \n",
            " )                                                                                                \n",
            "                                                                                                  \n",
            " tf.__operators__.getitem (Slic  ()                  0           ['tf.compat.v1.shape[0][0]']     \n",
            " ingOpLambda)                                                                                     \n",
            "                                                                                                  \n",
            " tf.math.maximum_1 (TFOpLambda)  ()                  0           ['tf.__operators__.getitem[0][0]'\n",
            "                                                                 ]                                \n",
            "                                                                                                  \n",
            " tf.math.subtract_1 (TFOpLambda  ()                  0           ['tf.math.maximum_1[0][0]']      \n",
            " )                                                                                                \n",
            "                                                                                                  \n",
            " tf.cast (TFOpLambda)           ()                   0           ['tf.math.subtract_1[0][0]']     \n",
            "                                                                                                  \n",
            " tf.math.truediv (TFOpLambda)   ()                   0           ['tf.cast[0][0]']                \n",
            "                                                                                                  \n",
            " tf.math.ceil (TFOpLambda)      ()                   0           ['tf.math.truediv[0][0]']        \n",
            "                                                                                                  \n",
            " tf.cast_1 (TFOpLambda)         ()                   0           ['tf.math.ceil[0][0]']           \n",
            "                                                                                                  \n",
            " tf.math.subtract (TFOpLambda)  ()                   0           ['tf.__operators__.getitem[0][0]'\n",
            "                                                                 ]                                \n",
            "                                                                                                  \n",
            " tf.math.multiply (TFOpLambda)  ()                   0           ['tf.cast_1[0][0]']              \n",
            "                                                                                                  \n",
            " tf.math.maximum (TFOpLambda)   ()                   0           ['tf.math.subtract[0][0]']       \n",
            "                                                                                                  \n",
            " tf.math.subtract_2 (TFOpLambda  ()                  0           ['tf.math.multiply[0][0]',       \n",
            " )                                                                'tf.math.subtract_1[0][0]']     \n",
            "                                                                                                  \n",
            " tf.__operators__.add (TFOpLamb  ()                  0           ['tf.math.maximum[0][0]',        \n",
            " da)                                                              'tf.math.subtract_2[0][0]']     \n",
            "                                                                                                  \n",
            " tf.compat.v1.pad (TFOpLambda)  (None,)              0           ['input_1[0][0]',                \n",
            "                                                                  'tf.__operators__.add[0][0]']   \n",
            "                                                                                                  \n",
            " tf.signal.stft (TFOpLambda)    (None, 257)          0           ['tf.compat.v1.pad[0][0]']       \n",
            "                                                                                                  \n",
            " tf.math.abs (TFOpLambda)       (None, 257)          0           ['tf.signal.stft[0][0]']         \n",
            "                                                                                                  \n",
            " tf.linalg.matmul (TFOpLambda)  (None, 64)           0           ['tf.math.abs[0][0]']            \n",
            "                                                                                                  \n",
            " tf.__operators__.add_1 (TFOpLa  (None, 64)          0           ['tf.linalg.matmul[0][0]']       \n",
            " mbda)                                                                                            \n",
            "                                                                                                  \n",
            " tf.math.log (TFOpLambda)       (None, 64)           0           ['tf.__operators__.add_1[0][0]'] \n",
            "                                                                                                  \n",
            " tf.signal.frame (TFOpLambda)   (None, 96, 64)       0           ['tf.math.log[0][0]']            \n",
            "                                                                                                  \n",
            " reshape (Reshape)              (None, 96, 64, 1)    0           ['tf.signal.frame[0][0]']        \n",
            "                                                                                                  \n",
            " layer1/conv (Conv2D)           (None, 48, 32, 32)   288         ['reshape[0][0]']                \n",
            "                                                                                                  \n",
            " layer1/conv/bn (BatchNormaliza  (None, 48, 32, 32)  96          ['layer1/conv[0][0]']            \n",
            " tion)                                                                                            \n",
            "                                                                                                  \n",
            " layer1/relu (ReLU)             (None, 48, 32, 32)   0           ['layer1/conv/bn[0][0]']         \n",
            "                                                                                                  \n",
            " layer2/depthwise_conv (Depthwi  (None, 48, 32, 32)  288         ['layer1/relu[0][0]']            \n",
            " seConv2D)                                                                                        \n",
            "                                                                                                  \n",
            " layer2/depthwise_conv/bn (Batc  (None, 48, 32, 32)  96          ['layer2/depthwise_conv[0][0]']  \n",
            " hNormalization)                                                                                  \n",
            "                                                                                                  \n",
            " layer2/depthwise_conv/relu (Re  (None, 48, 32, 32)  0           ['layer2/depthwise_conv/bn[0][0]'\n",
            " LU)                                                             ]                                \n",
            "                                                                                                  \n",
            " layer2/pointwise_conv (Conv2D)  (None, 48, 32, 64)  2048        ['layer2/depthwise_conv/relu[0][0\n",
            "                                                                 ]']                              \n",
            "                                                                                                  \n",
            " layer2/pointwise_conv/bn (Batc  (None, 48, 32, 64)  192         ['layer2/pointwise_conv[0][0]']  \n",
            " hNormalization)                                                                                  \n",
            "                                                                                                  \n",
            " layer2/pointwise_conv/relu (Re  (None, 48, 32, 64)  0           ['layer2/pointwise_conv/bn[0][0]'\n",
            " LU)                                                             ]                                \n",
            "                                                                                                  \n",
            " layer3/depthwise_conv (Depthwi  (None, 24, 16, 64)  576         ['layer2/pointwise_conv/relu[0][0\n",
            " seConv2D)                                                       ]']                              \n",
            "                                                                                                  \n",
            " layer3/depthwise_conv/bn (Batc  (None, 24, 16, 64)  192         ['layer3/depthwise_conv[0][0]']  \n",
            " hNormalization)                                                                                  \n",
            "                                                                                                  \n",
            " layer3/depthwise_conv/relu (Re  (None, 24, 16, 64)  0           ['layer3/depthwise_conv/bn[0][0]'\n",
            " LU)                                                             ]                                \n",
            "                                                                                                  \n",
            " layer3/pointwise_conv (Conv2D)  (None, 24, 16, 128)  8192       ['layer3/depthwise_conv/relu[0][0\n",
            "                                                                 ]']                              \n",
            "                                                                                                  \n",
            " layer3/pointwise_conv/bn (Batc  (None, 24, 16, 128)  384        ['layer3/pointwise_conv[0][0]']  \n",
            " hNormalization)                                                                                  \n",
            "                                                                                                  \n",
            " layer3/pointwise_conv/relu (Re  (None, 24, 16, 128)  0          ['layer3/pointwise_conv/bn[0][0]'\n",
            " LU)                                                             ]                                \n",
            "                                                                                                  \n",
            " layer4/depthwise_conv (Depthwi  (None, 24, 16, 128)  1152       ['layer3/pointwise_conv/relu[0][0\n",
            " seConv2D)                                                       ]']                              \n",
            "                                                                                                  \n",
            " layer4/depthwise_conv/bn (Batc  (None, 24, 16, 128)  384        ['layer4/depthwise_conv[0][0]']  \n",
            " hNormalization)                                                                                  \n",
            "                                                                                                  \n",
            " layer4/depthwise_conv/relu (Re  (None, 24, 16, 128)  0          ['layer4/depthwise_conv/bn[0][0]'\n",
            " LU)                                                             ]                                \n",
            "                                                                                                  \n",
            " layer4/pointwise_conv (Conv2D)  (None, 24, 16, 128)  16384      ['layer4/depthwise_conv/relu[0][0\n",
            "                                                                 ]']                              \n",
            "                                                                                                  \n",
            " layer4/pointwise_conv/bn (Batc  (None, 24, 16, 128)  384        ['layer4/pointwise_conv[0][0]']  \n",
            " hNormalization)                                                                                  \n",
            "                                                                                                  \n",
            " layer4/pointwise_conv/relu (Re  (None, 24, 16, 128)  0          ['layer4/pointwise_conv/bn[0][0]'\n",
            " LU)                                                             ]                                \n",
            "                                                                                                  \n",
            " layer5/depthwise_conv (Depthwi  (None, 12, 8, 128)  1152        ['layer4/pointwise_conv/relu[0][0\n",
            " seConv2D)                                                       ]']                              \n",
            "                                                                                                  \n",
            " layer5/depthwise_conv/bn (Batc  (None, 12, 8, 128)  384         ['layer5/depthwise_conv[0][0]']  \n",
            " hNormalization)                                                                                  \n",
            "                                                                                                  \n",
            " layer5/depthwise_conv/relu (Re  (None, 12, 8, 128)  0           ['layer5/depthwise_conv/bn[0][0]'\n",
            " LU)                                                             ]                                \n",
            "                                                                                                  \n",
            " layer5/pointwise_conv (Conv2D)  (None, 12, 8, 256)  32768       ['layer5/depthwise_conv/relu[0][0\n",
            "                                                                 ]']                              \n",
            "                                                                                                  \n",
            " layer5/pointwise_conv/bn (Batc  (None, 12, 8, 256)  768         ['layer5/pointwise_conv[0][0]']  \n",
            " hNormalization)                                                                                  \n",
            "                                                                                                  \n",
            " layer5/pointwise_conv/relu (Re  (None, 12, 8, 256)  0           ['layer5/pointwise_conv/bn[0][0]'\n",
            " LU)                                                             ]                                \n",
            "                                                                                                  \n",
            " layer6/depthwise_conv (Depthwi  (None, 12, 8, 256)  2304        ['layer5/pointwise_conv/relu[0][0\n",
            " seConv2D)                                                       ]']                              \n",
            "                                                                                                  \n",
            " layer6/depthwise_conv/bn (Batc  (None, 12, 8, 256)  768         ['layer6/depthwise_conv[0][0]']  \n",
            " hNormalization)                                                                                  \n",
            "                                                                                                  \n",
            " layer6/depthwise_conv/relu (Re  (None, 12, 8, 256)  0           ['layer6/depthwise_conv/bn[0][0]'\n",
            " LU)                                                             ]                                \n",
            "                                                                                                  \n",
            " layer6/pointwise_conv (Conv2D)  (None, 12, 8, 256)  65536       ['layer6/depthwise_conv/relu[0][0\n",
            "                                                                 ]']                              \n",
            "                                                                                                  \n",
            " layer6/pointwise_conv/bn (Batc  (None, 12, 8, 256)  768         ['layer6/pointwise_conv[0][0]']  \n",
            " hNormalization)                                                                                  \n",
            "                                                                                                  \n",
            " layer6/pointwise_conv/relu (Re  (None, 12, 8, 256)  0           ['layer6/pointwise_conv/bn[0][0]'\n",
            " LU)                                                             ]                                \n",
            "                                                                                                  \n",
            " layer7/depthwise_conv (Depthwi  (None, 6, 4, 256)   2304        ['layer6/pointwise_conv/relu[0][0\n",
            " seConv2D)                                                       ]']                              \n",
            "                                                                                                  \n",
            " layer7/depthwise_conv/bn (Batc  (None, 6, 4, 256)   768         ['layer7/depthwise_conv[0][0]']  \n",
            " hNormalization)                                                                                  \n",
            "                                                                                                  \n",
            " layer7/depthwise_conv/relu (Re  (None, 6, 4, 256)   0           ['layer7/depthwise_conv/bn[0][0]'\n",
            " LU)                                                             ]                                \n",
            "                                                                                                  \n",
            " layer7/pointwise_conv (Conv2D)  (None, 6, 4, 512)   131072      ['layer7/depthwise_conv/relu[0][0\n",
            "                                                                 ]']                              \n",
            "                                                                                                  \n",
            " layer7/pointwise_conv/bn (Batc  (None, 6, 4, 512)   1536        ['layer7/pointwise_conv[0][0]']  \n",
            " hNormalization)                                                                                  \n",
            "                                                                                                  \n",
            " layer7/pointwise_conv/relu (Re  (None, 6, 4, 512)   0           ['layer7/pointwise_conv/bn[0][0]'\n",
            " LU)                                                             ]                                \n",
            "                                                                                                  \n",
            " layer8/depthwise_conv (Depthwi  (None, 6, 4, 512)   4608        ['layer7/pointwise_conv/relu[0][0\n",
            " seConv2D)                                                       ]']                              \n",
            "                                                                                                  \n",
            " layer8/depthwise_conv/bn (Batc  (None, 6, 4, 512)   1536        ['layer8/depthwise_conv[0][0]']  \n",
            " hNormalization)                                                                                  \n",
            "                                                                                                  \n",
            " layer8/depthwise_conv/relu (Re  (None, 6, 4, 512)   0           ['layer8/depthwise_conv/bn[0][0]'\n",
            " LU)                                                             ]                                \n",
            "                                                                                                  \n",
            " layer8/pointwise_conv (Conv2D)  (None, 6, 4, 512)   262144      ['layer8/depthwise_conv/relu[0][0\n",
            "                                                                 ]']                              \n",
            "                                                                                                  \n",
            " layer8/pointwise_conv/bn (Batc  (None, 6, 4, 512)   1536        ['layer8/pointwise_conv[0][0]']  \n",
            " hNormalization)                                                                                  \n",
            "                                                                                                  \n",
            " layer8/pointwise_conv/relu (Re  (None, 6, 4, 512)   0           ['layer8/pointwise_conv/bn[0][0]'\n",
            " LU)                                                             ]                                \n",
            "                                                                                                  \n",
            " layer9/depthwise_conv (Depthwi  (None, 6, 4, 512)   4608        ['layer8/pointwise_conv/relu[0][0\n",
            " seConv2D)                                                       ]']                              \n",
            "                                                                                                  \n",
            " layer9/depthwise_conv/bn (Batc  (None, 6, 4, 512)   1536        ['layer9/depthwise_conv[0][0]']  \n",
            " hNormalization)                                                                                  \n",
            "                                                                                                  \n",
            " layer9/depthwise_conv/relu (Re  (None, 6, 4, 512)   0           ['layer9/depthwise_conv/bn[0][0]'\n",
            " LU)                                                             ]                                \n",
            "                                                                                                  \n",
            " layer9/pointwise_conv (Conv2D)  (None, 6, 4, 512)   262144      ['layer9/depthwise_conv/relu[0][0\n",
            "                                                                 ]']                              \n",
            "                                                                                                  \n",
            " layer9/pointwise_conv/bn (Batc  (None, 6, 4, 512)   1536        ['layer9/pointwise_conv[0][0]']  \n",
            " hNormalization)                                                                                  \n",
            "                                                                                                  \n",
            " layer9/pointwise_conv/relu (Re  (None, 6, 4, 512)   0           ['layer9/pointwise_conv/bn[0][0]'\n",
            " LU)                                                             ]                                \n",
            "                                                                                                  \n",
            " layer10/depthwise_conv (Depthw  (None, 6, 4, 512)   4608        ['layer9/pointwise_conv/relu[0][0\n",
            " iseConv2D)                                                      ]']                              \n",
            "                                                                                                  \n",
            " layer10/depthwise_conv/bn (Bat  (None, 6, 4, 512)   1536        ['layer10/depthwise_conv[0][0]'] \n",
            " chNormalization)                                                                                 \n",
            "                                                                                                  \n",
            " layer10/depthwise_conv/relu (R  (None, 6, 4, 512)   0           ['layer10/depthwise_conv/bn[0][0]\n",
            " eLU)                                                            ']                               \n",
            "                                                                                                  \n",
            " layer10/pointwise_conv (Conv2D  (None, 6, 4, 512)   262144      ['layer10/depthwise_conv/relu[0][\n",
            " )                                                               0]']                             \n",
            "                                                                                                  \n",
            " layer10/pointwise_conv/bn (Bat  (None, 6, 4, 512)   1536        ['layer10/pointwise_conv[0][0]'] \n",
            " chNormalization)                                                                                 \n",
            "                                                                                                  \n",
            " layer10/pointwise_conv/relu (R  (None, 6, 4, 512)   0           ['layer10/pointwise_conv/bn[0][0]\n",
            " eLU)                                                            ']                               \n",
            "                                                                                                  \n",
            " layer11/depthwise_conv (Depthw  (None, 6, 4, 512)   4608        ['layer10/pointwise_conv/relu[0][\n",
            " iseConv2D)                                                      0]']                             \n",
            "                                                                                                  \n",
            " layer11/depthwise_conv/bn (Bat  (None, 6, 4, 512)   1536        ['layer11/depthwise_conv[0][0]'] \n",
            " chNormalization)                                                                                 \n",
            "                                                                                                  \n",
            " layer11/depthwise_conv/relu (R  (None, 6, 4, 512)   0           ['layer11/depthwise_conv/bn[0][0]\n",
            " eLU)                                                            ']                               \n",
            "                                                                                                  \n",
            " layer11/pointwise_conv (Conv2D  (None, 6, 4, 512)   262144      ['layer11/depthwise_conv/relu[0][\n",
            " )                                                               0]']                             \n",
            "                                                                                                  \n",
            " layer11/pointwise_conv/bn (Bat  (None, 6, 4, 512)   1536        ['layer11/pointwise_conv[0][0]'] \n",
            " chNormalization)                                                                                 \n",
            "                                                                                                  \n",
            " layer11/pointwise_conv/relu (R  (None, 6, 4, 512)   0           ['layer11/pointwise_conv/bn[0][0]\n",
            " eLU)                                                            ']                               \n",
            "                                                                                                  \n",
            " layer12/depthwise_conv (Depthw  (None, 6, 4, 512)   4608        ['layer11/pointwise_conv/relu[0][\n",
            " iseConv2D)                                                      0]']                             \n",
            "                                                                                                  \n",
            " layer12/depthwise_conv/bn (Bat  (None, 6, 4, 512)   1536        ['layer12/depthwise_conv[0][0]'] \n",
            " chNormalization)                                                                                 \n",
            "                                                                                                  \n",
            " layer12/depthwise_conv/relu (R  (None, 6, 4, 512)   0           ['layer12/depthwise_conv/bn[0][0]\n",
            " eLU)                                                            ']                               \n",
            "                                                                                                  \n",
            " layer12/pointwise_conv (Conv2D  (None, 6, 4, 512)   262144      ['layer12/depthwise_conv/relu[0][\n",
            " )                                                               0]']                             \n",
            "                                                                                                  \n",
            " layer12/pointwise_conv/bn (Bat  (None, 6, 4, 512)   1536        ['layer12/pointwise_conv[0][0]'] \n",
            " chNormalization)                                                                                 \n",
            "                                                                                                  \n",
            " layer12/pointwise_conv/relu (R  (None, 6, 4, 512)   0           ['layer12/pointwise_conv/bn[0][0]\n",
            " eLU)                                                            ']                               \n",
            "                                                                                                  \n",
            " layer13/depthwise_conv (Depthw  (None, 3, 2, 512)   4608        ['layer12/pointwise_conv/relu[0][\n",
            " iseConv2D)                                                      0]']                             \n",
            "                                                                                                  \n",
            " layer13/depthwise_conv/bn (Bat  (None, 3, 2, 512)   1536        ['layer13/depthwise_conv[0][0]'] \n",
            " chNormalization)                                                                                 \n",
            "                                                                                                  \n",
            " layer13/depthwise_conv/relu (R  (None, 3, 2, 512)   0           ['layer13/depthwise_conv/bn[0][0]\n",
            " eLU)                                                            ']                               \n",
            "                                                                                                  \n",
            " layer13/pointwise_conv (Conv2D  (None, 3, 2, 1024)  524288      ['layer13/depthwise_conv/relu[0][\n",
            " )                                                               0]']                             \n",
            "                                                                                                  \n",
            " layer13/pointwise_conv/bn (Bat  (None, 3, 2, 1024)  3072        ['layer13/pointwise_conv[0][0]'] \n",
            " chNormalization)                                                                                 \n",
            "                                                                                                  \n",
            " layer13/pointwise_conv/relu (R  (None, 3, 2, 1024)  0           ['layer13/pointwise_conv/bn[0][0]\n",
            " eLU)                                                            ']                               \n",
            "                                                                                                  \n",
            " layer14/depthwise_conv (Depthw  (None, 3, 2, 1024)  9216        ['layer13/pointwise_conv/relu[0][\n",
            " iseConv2D)                                                      0]']                             \n",
            "                                                                                                  \n",
            " layer14/depthwise_conv/bn (Bat  (None, 3, 2, 1024)  3072        ['layer14/depthwise_conv[0][0]'] \n",
            " chNormalization)                                                                                 \n",
            "                                                                                                  \n",
            " layer14/depthwise_conv/relu (R  (None, 3, 2, 1024)  0           ['layer14/depthwise_conv/bn[0][0]\n",
            " eLU)                                                            ']                               \n",
            "                                                                                                  \n",
            " layer14/pointwise_conv (Conv2D  (None, 3, 2, 1024)  1048576     ['layer14/depthwise_conv/relu[0][\n",
            " )                                                               0]']                             \n",
            "                                                                                                  \n",
            " layer14/pointwise_conv/bn (Bat  (None, 3, 2, 1024)  3072        ['layer14/pointwise_conv[0][0]'] \n",
            " chNormalization)                                                                                 \n",
            "                                                                                                  \n",
            " layer14/pointwise_conv/relu (R  (None, 3, 2, 1024)  0           ['layer14/pointwise_conv/bn[0][0]\n",
            " eLU)                                                            ']                               \n",
            "                                                                                                  \n",
            " global_average_pooling2d (Glob  (None, 1024)        0           ['layer14/pointwise_conv/relu[0][\n",
            " alAveragePooling2D)                                             0]']                             \n",
            "                                                                                                  \n",
            " dense (Dense)                  (None, 521)          534025      ['global_average_pooling2d[0][0]'\n",
            "                                                                 ]                                \n",
            "                                                                                                  \n",
            " activation (Activation)        (None, 521)          0           ['dense[0][0]']                  \n",
            "                                                                                                  \n",
            "==================================================================================================\n",
            "Total params: 3,751,369\n",
            "Trainable params: 3,729,481\n",
            "Non-trainable params: 21,888\n",
            "__________________________________________________________________________________________________\n"
          ]
        }
      ],
      "source": [
        "yamnet.summary()"
      ]
    },
    {
      "cell_type": "code",
      "execution_count": 9,
      "metadata": {
        "colab": {
          "base_uri": "https://localhost:8080/"
        },
        "id": "dIrxjKMIkNCh",
        "outputId": "bbe9f2bf-7bea-4651-f9c2-63833ede8abe"
      },
      "outputs": [
        {
          "output_type": "stream",
          "name": "stdout",
          "text": [
            "0 input_1\n",
            "1 tf.compat.v1.shape\n",
            "2 tf.__operators__.getitem\n",
            "3 tf.math.maximum_1\n",
            "4 tf.math.subtract_1\n",
            "5 tf.cast\n",
            "6 tf.math.truediv\n",
            "7 tf.math.ceil\n",
            "8 tf.cast_1\n",
            "9 tf.math.subtract\n",
            "10 tf.math.multiply\n",
            "11 tf.math.maximum\n",
            "12 tf.math.subtract_2\n",
            "13 tf.__operators__.add\n",
            "14 tf.compat.v1.pad\n",
            "15 tf.signal.stft\n",
            "16 tf.math.abs\n",
            "17 tf.linalg.matmul\n",
            "18 tf.__operators__.add_1\n",
            "19 tf.math.log\n",
            "20 tf.signal.frame\n",
            "21 reshape\n",
            "22 layer1/conv\n",
            "23 layer1/conv/bn\n",
            "24 layer1/relu\n",
            "25 layer2/depthwise_conv\n",
            "26 layer2/depthwise_conv/bn\n",
            "27 layer2/depthwise_conv/relu\n",
            "28 layer2/pointwise_conv\n",
            "29 layer2/pointwise_conv/bn\n",
            "30 layer2/pointwise_conv/relu\n",
            "31 layer3/depthwise_conv\n",
            "32 layer3/depthwise_conv/bn\n",
            "33 layer3/depthwise_conv/relu\n",
            "34 layer3/pointwise_conv\n",
            "35 layer3/pointwise_conv/bn\n",
            "36 layer3/pointwise_conv/relu\n",
            "37 layer4/depthwise_conv\n",
            "38 layer4/depthwise_conv/bn\n",
            "39 layer4/depthwise_conv/relu\n",
            "40 layer4/pointwise_conv\n",
            "41 layer4/pointwise_conv/bn\n",
            "42 layer4/pointwise_conv/relu\n",
            "43 layer5/depthwise_conv\n",
            "44 layer5/depthwise_conv/bn\n",
            "45 layer5/depthwise_conv/relu\n",
            "46 layer5/pointwise_conv\n",
            "47 layer5/pointwise_conv/bn\n",
            "48 layer5/pointwise_conv/relu\n",
            "49 layer6/depthwise_conv\n",
            "50 layer6/depthwise_conv/bn\n",
            "51 layer6/depthwise_conv/relu\n",
            "52 layer6/pointwise_conv\n",
            "53 layer6/pointwise_conv/bn\n",
            "54 layer6/pointwise_conv/relu\n",
            "55 layer7/depthwise_conv\n",
            "56 layer7/depthwise_conv/bn\n",
            "57 layer7/depthwise_conv/relu\n",
            "58 layer7/pointwise_conv\n",
            "59 layer7/pointwise_conv/bn\n",
            "60 layer7/pointwise_conv/relu\n",
            "61 layer8/depthwise_conv\n",
            "62 layer8/depthwise_conv/bn\n",
            "63 layer8/depthwise_conv/relu\n",
            "64 layer8/pointwise_conv\n",
            "65 layer8/pointwise_conv/bn\n",
            "66 layer8/pointwise_conv/relu\n",
            "67 layer9/depthwise_conv\n",
            "68 layer9/depthwise_conv/bn\n",
            "69 layer9/depthwise_conv/relu\n",
            "70 layer9/pointwise_conv\n",
            "71 layer9/pointwise_conv/bn\n",
            "72 layer9/pointwise_conv/relu\n",
            "73 layer10/depthwise_conv\n",
            "74 layer10/depthwise_conv/bn\n",
            "75 layer10/depthwise_conv/relu\n",
            "76 layer10/pointwise_conv\n",
            "77 layer10/pointwise_conv/bn\n",
            "78 layer10/pointwise_conv/relu\n",
            "79 layer11/depthwise_conv\n",
            "80 layer11/depthwise_conv/bn\n",
            "81 layer11/depthwise_conv/relu\n",
            "82 layer11/pointwise_conv\n",
            "83 layer11/pointwise_conv/bn\n",
            "84 layer11/pointwise_conv/relu\n",
            "85 layer12/depthwise_conv\n",
            "86 layer12/depthwise_conv/bn\n",
            "87 layer12/depthwise_conv/relu\n",
            "88 layer12/pointwise_conv\n",
            "89 layer12/pointwise_conv/bn\n",
            "90 layer12/pointwise_conv/relu\n",
            "91 layer13/depthwise_conv\n",
            "92 layer13/depthwise_conv/bn\n",
            "93 layer13/depthwise_conv/relu\n",
            "94 layer13/pointwise_conv\n",
            "95 layer13/pointwise_conv/bn\n",
            "96 layer13/pointwise_conv/relu\n",
            "97 layer14/depthwise_conv\n",
            "98 layer14/depthwise_conv/bn\n",
            "99 layer14/depthwise_conv/relu\n",
            "100 layer14/pointwise_conv\n",
            "101 layer14/pointwise_conv/bn\n",
            "102 layer14/pointwise_conv/relu\n",
            "103 global_average_pooling2d\n",
            "104 dense\n",
            "105 activation\n"
          ]
        }
      ],
      "source": [
        "for i,layer in enumerate(yamnet.layers): ### Enumerate layers to understand indexes\n",
        "    print(i,layer.name)"
      ]
    },
    {
      "cell_type": "markdown",
      "source": [
        "Removing preprocessing layers and thus creating yamnet sub-model"
      ],
      "metadata": {
        "id": "irNtyxZQJL8Z"
      }
    },
    {
      "cell_type": "code",
      "execution_count": 10,
      "metadata": {
        "id": "amT40_H7kNCi"
      },
      "outputs": [],
      "source": [
        "mel_yamnet = Sequential() ## Create empty new model\n",
        "mel_yamnet.add(Input(shape=(96,64))) ### Create input shape with the right dimension\n",
        "\n",
        "for i,layer in enumerate(yamnet.layers): # Take all the Yamnet layers after the waveform preprocessing one\n",
        "    if i >= 21 and i!=104: # From the first layer after preprocessing\n",
        "      layer.trainable=False\n",
        "      mel_yamnet.add(layer) # Add them to the new model\n",
        "    if i==104:\n",
        "      mel_yamnet.add(tf.keras.layers.Dense(256, activation='relu', kernel_regularizer=tf.keras.regularizers.L2(0.002))), \n",
        "      mel_yamnet.add(tf.keras.layers.Dropout(0.5)),\n",
        "      mel_yamnet.add(tf.keras.layers.Dense(64, activation='relu', kernel_regularizer=tf.keras.regularizers.L2(0.002))), \n",
        "      mel_yamnet.add(tf.keras.layers.Dropout(0.5)),\n",
        "      mel_yamnet.add(tf.keras.layers.Dense(16, activation='relu', kernel_regularizer=tf.keras.regularizers.L2(0.002))), \n",
        "      mel_yamnet.add(tf.keras.layers.Dropout(0.5)),\n",
        "      mel_yamnet.add(tf.keras.layers.Dense(10, activation=\"softmax\"))\n",
        "      break"
      ]
    },
    {
      "cell_type": "code",
      "source": [
        "mel_yamnet.summary()"
      ],
      "metadata": {
        "colab": {
          "base_uri": "https://localhost:8080/"
        },
        "id": "VQs6C1s_kc-K",
        "outputId": "78873d2e-fe2f-450b-8b91-5d1c4ccc396e"
      },
      "execution_count": 11,
      "outputs": [
        {
          "output_type": "stream",
          "name": "stdout",
          "text": [
            "Model: \"sequential\"\n",
            "_________________________________________________________________\n",
            " Layer (type)                Output Shape              Param #   \n",
            "=================================================================\n",
            " reshape (Reshape)           (None, 96, 64, 1)         0         \n",
            "                                                                 \n",
            " layer1/conv (Conv2D)        (None, 48, 32, 32)        288       \n",
            "                                                                 \n",
            " layer1/conv/bn (BatchNormal  (None, 48, 32, 32)       96        \n",
            " ization)                                                        \n",
            "                                                                 \n",
            " layer1/relu (ReLU)          (None, 48, 32, 32)        0         \n",
            "                                                                 \n",
            " layer2/depthwise_conv (Dept  (None, 48, 32, 32)       288       \n",
            " hwiseConv2D)                                                    \n",
            "                                                                 \n",
            " layer2/depthwise_conv/bn (B  (None, 48, 32, 32)       96        \n",
            " atchNormalization)                                              \n",
            "                                                                 \n",
            " layer2/depthwise_conv/relu   (None, 48, 32, 32)       0         \n",
            " (ReLU)                                                          \n",
            "                                                                 \n",
            " layer2/pointwise_conv (Conv  (None, 48, 32, 64)       2048      \n",
            " 2D)                                                             \n",
            "                                                                 \n",
            " layer2/pointwise_conv/bn (B  (None, 48, 32, 64)       192       \n",
            " atchNormalization)                                              \n",
            "                                                                 \n",
            " layer2/pointwise_conv/relu   (None, 48, 32, 64)       0         \n",
            " (ReLU)                                                          \n",
            "                                                                 \n",
            " layer3/depthwise_conv (Dept  (None, 24, 16, 64)       576       \n",
            " hwiseConv2D)                                                    \n",
            "                                                                 \n",
            " layer3/depthwise_conv/bn (B  (None, 24, 16, 64)       192       \n",
            " atchNormalization)                                              \n",
            "                                                                 \n",
            " layer3/depthwise_conv/relu   (None, 24, 16, 64)       0         \n",
            " (ReLU)                                                          \n",
            "                                                                 \n",
            " layer3/pointwise_conv (Conv  (None, 24, 16, 128)      8192      \n",
            " 2D)                                                             \n",
            "                                                                 \n",
            " layer3/pointwise_conv/bn (B  (None, 24, 16, 128)      384       \n",
            " atchNormalization)                                              \n",
            "                                                                 \n",
            " layer3/pointwise_conv/relu   (None, 24, 16, 128)      0         \n",
            " (ReLU)                                                          \n",
            "                                                                 \n",
            " layer4/depthwise_conv (Dept  (None, 24, 16, 128)      1152      \n",
            " hwiseConv2D)                                                    \n",
            "                                                                 \n",
            " layer4/depthwise_conv/bn (B  (None, 24, 16, 128)      384       \n",
            " atchNormalization)                                              \n",
            "                                                                 \n",
            " layer4/depthwise_conv/relu   (None, 24, 16, 128)      0         \n",
            " (ReLU)                                                          \n",
            "                                                                 \n",
            " layer4/pointwise_conv (Conv  (None, 24, 16, 128)      16384     \n",
            " 2D)                                                             \n",
            "                                                                 \n",
            " layer4/pointwise_conv/bn (B  (None, 24, 16, 128)      384       \n",
            " atchNormalization)                                              \n",
            "                                                                 \n",
            " layer4/pointwise_conv/relu   (None, 24, 16, 128)      0         \n",
            " (ReLU)                                                          \n",
            "                                                                 \n",
            " layer5/depthwise_conv (Dept  (None, 12, 8, 128)       1152      \n",
            " hwiseConv2D)                                                    \n",
            "                                                                 \n",
            " layer5/depthwise_conv/bn (B  (None, 12, 8, 128)       384       \n",
            " atchNormalization)                                              \n",
            "                                                                 \n",
            " layer5/depthwise_conv/relu   (None, 12, 8, 128)       0         \n",
            " (ReLU)                                                          \n",
            "                                                                 \n",
            " layer5/pointwise_conv (Conv  (None, 12, 8, 256)       32768     \n",
            " 2D)                                                             \n",
            "                                                                 \n",
            " layer5/pointwise_conv/bn (B  (None, 12, 8, 256)       768       \n",
            " atchNormalization)                                              \n",
            "                                                                 \n",
            " layer5/pointwise_conv/relu   (None, 12, 8, 256)       0         \n",
            " (ReLU)                                                          \n",
            "                                                                 \n",
            " layer6/depthwise_conv (Dept  (None, 12, 8, 256)       2304      \n",
            " hwiseConv2D)                                                    \n",
            "                                                                 \n",
            " layer6/depthwise_conv/bn (B  (None, 12, 8, 256)       768       \n",
            " atchNormalization)                                              \n",
            "                                                                 \n",
            " layer6/depthwise_conv/relu   (None, 12, 8, 256)       0         \n",
            " (ReLU)                                                          \n",
            "                                                                 \n",
            " layer6/pointwise_conv (Conv  (None, 12, 8, 256)       65536     \n",
            " 2D)                                                             \n",
            "                                                                 \n",
            " layer6/pointwise_conv/bn (B  (None, 12, 8, 256)       768       \n",
            " atchNormalization)                                              \n",
            "                                                                 \n",
            " layer6/pointwise_conv/relu   (None, 12, 8, 256)       0         \n",
            " (ReLU)                                                          \n",
            "                                                                 \n",
            " layer7/depthwise_conv (Dept  (None, 6, 4, 256)        2304      \n",
            " hwiseConv2D)                                                    \n",
            "                                                                 \n",
            " layer7/depthwise_conv/bn (B  (None, 6, 4, 256)        768       \n",
            " atchNormalization)                                              \n",
            "                                                                 \n",
            " layer7/depthwise_conv/relu   (None, 6, 4, 256)        0         \n",
            " (ReLU)                                                          \n",
            "                                                                 \n",
            " layer7/pointwise_conv (Conv  (None, 6, 4, 512)        131072    \n",
            " 2D)                                                             \n",
            "                                                                 \n",
            " layer7/pointwise_conv/bn (B  (None, 6, 4, 512)        1536      \n",
            " atchNormalization)                                              \n",
            "                                                                 \n",
            " layer7/pointwise_conv/relu   (None, 6, 4, 512)        0         \n",
            " (ReLU)                                                          \n",
            "                                                                 \n",
            " layer8/depthwise_conv (Dept  (None, 6, 4, 512)        4608      \n",
            " hwiseConv2D)                                                    \n",
            "                                                                 \n",
            " layer8/depthwise_conv/bn (B  (None, 6, 4, 512)        1536      \n",
            " atchNormalization)                                              \n",
            "                                                                 \n",
            " layer8/depthwise_conv/relu   (None, 6, 4, 512)        0         \n",
            " (ReLU)                                                          \n",
            "                                                                 \n",
            " layer8/pointwise_conv (Conv  (None, 6, 4, 512)        262144    \n",
            " 2D)                                                             \n",
            "                                                                 \n",
            " layer8/pointwise_conv/bn (B  (None, 6, 4, 512)        1536      \n",
            " atchNormalization)                                              \n",
            "                                                                 \n",
            " layer8/pointwise_conv/relu   (None, 6, 4, 512)        0         \n",
            " (ReLU)                                                          \n",
            "                                                                 \n",
            " layer9/depthwise_conv (Dept  (None, 6, 4, 512)        4608      \n",
            " hwiseConv2D)                                                    \n",
            "                                                                 \n",
            " layer9/depthwise_conv/bn (B  (None, 6, 4, 512)        1536      \n",
            " atchNormalization)                                              \n",
            "                                                                 \n",
            " layer9/depthwise_conv/relu   (None, 6, 4, 512)        0         \n",
            " (ReLU)                                                          \n",
            "                                                                 \n",
            " layer9/pointwise_conv (Conv  (None, 6, 4, 512)        262144    \n",
            " 2D)                                                             \n",
            "                                                                 \n",
            " layer9/pointwise_conv/bn (B  (None, 6, 4, 512)        1536      \n",
            " atchNormalization)                                              \n",
            "                                                                 \n",
            " layer9/pointwise_conv/relu   (None, 6, 4, 512)        0         \n",
            " (ReLU)                                                          \n",
            "                                                                 \n",
            " layer10/depthwise_conv (Dep  (None, 6, 4, 512)        4608      \n",
            " thwiseConv2D)                                                   \n",
            "                                                                 \n",
            " layer10/depthwise_conv/bn (  (None, 6, 4, 512)        1536      \n",
            " BatchNormalization)                                             \n",
            "                                                                 \n",
            " layer10/depthwise_conv/relu  (None, 6, 4, 512)        0         \n",
            "  (ReLU)                                                         \n",
            "                                                                 \n",
            " layer10/pointwise_conv (Con  (None, 6, 4, 512)        262144    \n",
            " v2D)                                                            \n",
            "                                                                 \n",
            " layer10/pointwise_conv/bn (  (None, 6, 4, 512)        1536      \n",
            " BatchNormalization)                                             \n",
            "                                                                 \n",
            " layer10/pointwise_conv/relu  (None, 6, 4, 512)        0         \n",
            "  (ReLU)                                                         \n",
            "                                                                 \n",
            " layer11/depthwise_conv (Dep  (None, 6, 4, 512)        4608      \n",
            " thwiseConv2D)                                                   \n",
            "                                                                 \n",
            " layer11/depthwise_conv/bn (  (None, 6, 4, 512)        1536      \n",
            " BatchNormalization)                                             \n",
            "                                                                 \n",
            " layer11/depthwise_conv/relu  (None, 6, 4, 512)        0         \n",
            "  (ReLU)                                                         \n",
            "                                                                 \n",
            " layer11/pointwise_conv (Con  (None, 6, 4, 512)        262144    \n",
            " v2D)                                                            \n",
            "                                                                 \n",
            " layer11/pointwise_conv/bn (  (None, 6, 4, 512)        1536      \n",
            " BatchNormalization)                                             \n",
            "                                                                 \n",
            " layer11/pointwise_conv/relu  (None, 6, 4, 512)        0         \n",
            "  (ReLU)                                                         \n",
            "                                                                 \n",
            " layer12/depthwise_conv (Dep  (None, 6, 4, 512)        4608      \n",
            " thwiseConv2D)                                                   \n",
            "                                                                 \n",
            " layer12/depthwise_conv/bn (  (None, 6, 4, 512)        1536      \n",
            " BatchNormalization)                                             \n",
            "                                                                 \n",
            " layer12/depthwise_conv/relu  (None, 6, 4, 512)        0         \n",
            "  (ReLU)                                                         \n",
            "                                                                 \n",
            " layer12/pointwise_conv (Con  (None, 6, 4, 512)        262144    \n",
            " v2D)                                                            \n",
            "                                                                 \n",
            " layer12/pointwise_conv/bn (  (None, 6, 4, 512)        1536      \n",
            " BatchNormalization)                                             \n",
            "                                                                 \n",
            " layer12/pointwise_conv/relu  (None, 6, 4, 512)        0         \n",
            "  (ReLU)                                                         \n",
            "                                                                 \n",
            " layer13/depthwise_conv (Dep  (None, 3, 2, 512)        4608      \n",
            " thwiseConv2D)                                                   \n",
            "                                                                 \n",
            " layer13/depthwise_conv/bn (  (None, 3, 2, 512)        1536      \n",
            " BatchNormalization)                                             \n",
            "                                                                 \n",
            " layer13/depthwise_conv/relu  (None, 3, 2, 512)        0         \n",
            "  (ReLU)                                                         \n",
            "                                                                 \n",
            " layer13/pointwise_conv (Con  (None, 3, 2, 1024)       524288    \n",
            " v2D)                                                            \n",
            "                                                                 \n",
            " layer13/pointwise_conv/bn (  (None, 3, 2, 1024)       3072      \n",
            " BatchNormalization)                                             \n",
            "                                                                 \n",
            " layer13/pointwise_conv/relu  (None, 3, 2, 1024)       0         \n",
            "  (ReLU)                                                         \n",
            "                                                                 \n",
            " layer14/depthwise_conv (Dep  (None, 3, 2, 1024)       9216      \n",
            " thwiseConv2D)                                                   \n",
            "                                                                 \n",
            " layer14/depthwise_conv/bn (  (None, 3, 2, 1024)       3072      \n",
            " BatchNormalization)                                             \n",
            "                                                                 \n",
            " layer14/depthwise_conv/relu  (None, 3, 2, 1024)       0         \n",
            "  (ReLU)                                                         \n",
            "                                                                 \n",
            " layer14/pointwise_conv (Con  (None, 3, 2, 1024)       1048576   \n",
            " v2D)                                                            \n",
            "                                                                 \n",
            " layer14/pointwise_conv/bn (  (None, 3, 2, 1024)       3072      \n",
            " BatchNormalization)                                             \n",
            "                                                                 \n",
            " layer14/pointwise_conv/relu  (None, 3, 2, 1024)       0         \n",
            "  (ReLU)                                                         \n",
            "                                                                 \n",
            " global_average_pooling2d (G  (None, 1024)             0         \n",
            " lobalAveragePooling2D)                                          \n",
            "                                                                 \n",
            " dense_1 (Dense)             (None, 256)               262400    \n",
            "                                                                 \n",
            " dropout (Dropout)           (None, 256)               0         \n",
            "                                                                 \n",
            " dense_2 (Dense)             (None, 64)                16448     \n",
            "                                                                 \n",
            " dropout_1 (Dropout)         (None, 64)                0         \n",
            "                                                                 \n",
            " dense_3 (Dense)             (None, 16)                1040      \n",
            "                                                                 \n",
            " dropout_2 (Dropout)         (None, 16)                0         \n",
            "                                                                 \n",
            " dense_4 (Dense)             (None, 10)                170       \n",
            "                                                                 \n",
            "=================================================================\n",
            "Total params: 3,497,402\n",
            "Trainable params: 280,058\n",
            "Non-trainable params: 3,217,344\n",
            "_________________________________________________________________\n"
          ]
        }
      ]
    },
    {
      "cell_type": "markdown",
      "metadata": {
        "id": "xjVa1n4RkNCi"
      },
      "source": [
        "## Feature generation using YAMNet auxiliary functions"
      ]
    },
    {
      "cell_type": "code",
      "execution_count": 12,
      "metadata": {
        "id": "VFFqQ074kNCi"
      },
      "outputs": [],
      "source": [
        "params = Params()"
      ]
    },
    {
      "cell_type": "markdown",
      "source": [
        "dataset of 4000 reconstructed spectrograms"
      ],
      "metadata": {
        "id": "u2eOt6lh8JFR"
      }
    },
    {
      "cell_type": "code",
      "source": [
        "reconstructed = load(\"/content/gdrive/MyDrive/UrbanSound8K/dati/full_reconstructed_16kHz_500.npz\")\n",
        "# extract the first array\n",
        "rec = reconstructed['arr_0']"
      ],
      "metadata": {
        "id": "tadYr4wG7v98"
      },
      "execution_count": 13,
      "outputs": []
    },
    {
      "cell_type": "code",
      "source": [
        "labels = pd.read_csv(\"/content/gdrive/MyDrive/UrbanSound8K/dati/all_labels.csv\")\n",
        "labels = labels['0']"
      ],
      "metadata": {
        "id": "fw2qv5wYnY1b"
      },
      "execution_count": 14,
      "outputs": []
    },
    {
      "cell_type": "code",
      "source": [
        "rec.shape"
      ],
      "metadata": {
        "colab": {
          "base_uri": "https://localhost:8080/"
        },
        "id": "yPIabcfb715f",
        "outputId": "0f5756f3-da55-43e8-88da-87b9276c92ab"
      },
      "execution_count": 15,
      "outputs": [
        {
          "output_type": "execute_result",
          "data": {
            "text/plain": [
              "(4000, 64, 434)"
            ]
          },
          "metadata": {},
          "execution_count": 15
        }
      ]
    },
    {
      "cell_type": "markdown",
      "source": [
        "Feature framing following \"Input: Audio Features\" section of https://github.com/tensorflow/models/tree/master/research/audioset/yamnet"
      ],
      "metadata": {
        "id": "t0wJa-KlJ6T9"
      }
    },
    {
      "cell_type": "code",
      "source": [
        "x_mel_reconstructed = rec[1]"
      ],
      "metadata": {
        "id": "NgJird2PLMGu"
      },
      "execution_count": 16,
      "outputs": []
    },
    {
      "cell_type": "code",
      "source": [
        "rec.shape"
      ],
      "metadata": {
        "colab": {
          "base_uri": "https://localhost:8080/"
        },
        "id": "Y4nCzJ3DLXaz",
        "outputId": "d7afdc8d-e8d8-4b56-a473-ae2a4eb1c6a8"
      },
      "execution_count": 18,
      "outputs": [
        {
          "output_type": "execute_result",
          "data": {
            "text/plain": [
              "(4000, 64, 434)"
            ]
          },
          "metadata": {},
          "execution_count": 18
        }
      ]
    },
    {
      "cell_type": "code",
      "source": [
        "def frame_spectrograms(reconstructed_spectrograms):\n",
        "  framed_features=[]\n",
        "  for x_mel_log_librosa in reconstructed_spectrograms:\n",
        "    x_mel_log_librosa = np.log(x_mel_log_librosa + 0.001)\n",
        "    x_mel_log_librosa = np.nan_to_num(x_mel_log_librosa) # replace nan with zeros\n",
        "    x_mel_log_librosa_framed = np.ndarray((8,96,64))\n",
        "    j=0\n",
        "    # Frame size = 96\n",
        "    # Split the spectrogram into frames, and put the frames in the 3D array\n",
        "    # step of 48\n",
        "    for i in range(0,x_mel_log_librosa.shape[1]-96,96//2):\n",
        "        x_mel_log_librosa_framed[j] = x_mel_log_librosa[:,i:(i+96)].T # Spectrogram shape is (64,96) but tensor\n",
        "        j+=1\n",
        "    framed_features.append(x_mel_log_librosa_framed)\n",
        "  return np.array(framed_features)"
      ],
      "metadata": {
        "id": "fTNn4R5Uneg-"
      },
      "execution_count": 19,
      "outputs": []
    },
    {
      "cell_type": "code",
      "source": [
        "reconstructed_spectrograms = frame_spectrograms(rec)"
      ],
      "metadata": {
        "colab": {
          "base_uri": "https://localhost:8080/"
        },
        "id": "NfWuxy-jnzNu",
        "outputId": "46fce71e-14a1-4a41-b032-8a0fd16bd2e5"
      },
      "execution_count": 20,
      "outputs": [
        {
          "output_type": "stream",
          "name": "stderr",
          "text": [
            "/usr/local/lib/python3.7/dist-packages/ipykernel_launcher.py:4: RuntimeWarning: invalid value encountered in log\n",
            "  after removing the cwd from sys.path.\n"
          ]
        }
      ]
    },
    {
      "cell_type": "code",
      "source": [
        "reconstructed_spectrograms.shape"
      ],
      "metadata": {
        "colab": {
          "base_uri": "https://localhost:8080/"
        },
        "id": "0g78kNT6kNme",
        "outputId": "6bab833e-b040-4117-88ed-834294cd0630"
      },
      "execution_count": 21,
      "outputs": [
        {
          "output_type": "execute_result",
          "data": {
            "text/plain": [
              "(4000, 8, 96, 64)"
            ]
          },
          "metadata": {},
          "execution_count": 21
        }
      ]
    },
    {
      "cell_type": "code",
      "source": [
        "reconstructed_spectrograms=reconstructed_spectrograms.reshape(4000, 96, 64, 8)"
      ],
      "metadata": {
        "id": "bDbkvuMBkQek"
      },
      "execution_count": 22,
      "outputs": []
    },
    {
      "cell_type": "code",
      "source": [
        "reconstructed_spectrograms.shape"
      ],
      "metadata": {
        "colab": {
          "base_uri": "https://localhost:8080/"
        },
        "id": "B61k8e59kWHs",
        "outputId": "583d4014-57b7-4629-e3fc-19ab5700055e"
      },
      "execution_count": 23,
      "outputs": [
        {
          "output_type": "execute_result",
          "data": {
            "text/plain": [
              "(4000, 96, 64, 8)"
            ]
          },
          "metadata": {},
          "execution_count": 23
        }
      ]
    },
    {
      "cell_type": "markdown",
      "source": [
        "Sub-model compiling and fitting "
      ],
      "metadata": {
        "id": "lrZCDZKlwqjr"
      }
    },
    {
      "cell_type": "code",
      "source": [
        "mel_yamnet.compile(loss=tf.keras.losses.SparseCategoricalCrossentropy(from_logits=True),\n",
        "                 optimizer=\"adam\",\n",
        "                 metrics=['accuracy'])"
      ],
      "metadata": {
        "id": "14zVEtYPwtCn"
      },
      "execution_count": 24,
      "outputs": []
    },
    {
      "cell_type": "code",
      "source": [
        "ex = np.mean(reconstructed_spectrograms, axis=3) # patch avarage\n",
        "ex.shape"
      ],
      "metadata": {
        "colab": {
          "base_uri": "https://localhost:8080/"
        },
        "id": "ordPK5iIwzn1",
        "outputId": "c0314a3c-7519-4757-dc5a-de855f8c3464"
      },
      "execution_count": 25,
      "outputs": [
        {
          "output_type": "execute_result",
          "data": {
            "text/plain": [
              "(4000, 96, 64)"
            ]
          },
          "metadata": {},
          "execution_count": 25
        }
      ]
    },
    {
      "cell_type": "code",
      "source": [
        "mel_yamnet.fit(ex, labels[0:4000], batch_size=128, epochs=30)"
      ],
      "metadata": {
        "id": "q53LiuNNnBDj",
        "colab": {
          "base_uri": "https://localhost:8080/"
        },
        "outputId": "1bc0e0e9-537b-479e-ee7d-11cd0b26bdbe"
      },
      "execution_count": 26,
      "outputs": [
        {
          "output_type": "stream",
          "name": "stdout",
          "text": [
            "Epoch 1/30\n"
          ]
        },
        {
          "output_type": "stream",
          "name": "stderr",
          "text": [
            "/usr/local/lib/python3.7/dist-packages/tensorflow/python/util/dispatch.py:1082: UserWarning: \"`sparse_categorical_crossentropy` received `from_logits=True`, but the `output` argument was produced by a sigmoid or softmax activation and thus does not represent logits. Was this intended?\"\n",
            "  return dispatch_target(*args, **kwargs)\n"
          ]
        },
        {
          "output_type": "stream",
          "name": "stdout",
          "text": [
            "32/32 [==============================] - 19s 532ms/step - loss: 3.3225 - accuracy: 0.1265\n",
            "Epoch 2/30\n",
            "32/32 [==============================] - 17s 533ms/step - loss: 2.9833 - accuracy: 0.1562\n",
            "Epoch 3/30\n",
            "32/32 [==============================] - 18s 576ms/step - loss: 2.8260 - accuracy: 0.1548\n",
            "Epoch 4/30\n",
            "32/32 [==============================] - 22s 695ms/step - loss: 2.6941 - accuracy: 0.1880\n",
            "Epoch 5/30\n",
            "32/32 [==============================] - 20s 607ms/step - loss: 2.6020 - accuracy: 0.2015\n",
            "Epoch 6/30\n",
            "32/32 [==============================] - 17s 520ms/step - loss: 2.5044 - accuracy: 0.2348\n",
            "Epoch 7/30\n",
            "32/32 [==============================] - 17s 524ms/step - loss: 2.4337 - accuracy: 0.2495\n",
            "Epoch 8/30\n",
            "32/32 [==============================] - 17s 524ms/step - loss: 2.3568 - accuracy: 0.2688\n",
            "Epoch 9/30\n",
            "32/32 [==============================] - 17s 525ms/step - loss: 2.3087 - accuracy: 0.2747\n",
            "Epoch 10/30\n",
            "32/32 [==============================] - 21s 654ms/step - loss: 2.2611 - accuracy: 0.2912\n",
            "Epoch 11/30\n",
            "32/32 [==============================] - 18s 550ms/step - loss: 2.2024 - accuracy: 0.3013\n",
            "Epoch 12/30\n",
            "32/32 [==============================] - 17s 524ms/step - loss: 2.1603 - accuracy: 0.3212\n",
            "Epoch 13/30\n",
            "32/32 [==============================] - 17s 525ms/step - loss: 2.1309 - accuracy: 0.3223\n",
            "Epoch 14/30\n",
            "32/32 [==============================] - 17s 527ms/step - loss: 2.1014 - accuracy: 0.3280\n",
            "Epoch 15/30\n",
            "32/32 [==============================] - 17s 526ms/step - loss: 2.0858 - accuracy: 0.3390\n",
            "Epoch 16/30\n",
            "32/32 [==============================] - 17s 525ms/step - loss: 2.0363 - accuracy: 0.3380\n",
            "Epoch 17/30\n",
            "32/32 [==============================] - 18s 551ms/step - loss: 2.0228 - accuracy: 0.3430\n",
            "Epoch 18/30\n",
            "32/32 [==============================] - 17s 531ms/step - loss: 2.0040 - accuracy: 0.3630\n",
            "Epoch 19/30\n",
            "32/32 [==============================] - 17s 523ms/step - loss: 1.9830 - accuracy: 0.3632\n",
            "Epoch 20/30\n",
            "32/32 [==============================] - 17s 528ms/step - loss: 1.9642 - accuracy: 0.3700\n",
            "Epoch 21/30\n",
            "32/32 [==============================] - 17s 528ms/step - loss: 1.9450 - accuracy: 0.3770\n",
            "Epoch 22/30\n",
            "32/32 [==============================] - 17s 527ms/step - loss: 1.9330 - accuracy: 0.3778\n",
            "Epoch 23/30\n",
            "32/32 [==============================] - 21s 656ms/step - loss: 1.9295 - accuracy: 0.3803\n",
            "Epoch 24/30\n",
            "32/32 [==============================] - 17s 537ms/step - loss: 1.9094 - accuracy: 0.3853\n",
            "Epoch 25/30\n",
            "32/32 [==============================] - 22s 693ms/step - loss: 1.9080 - accuracy: 0.4020\n",
            "Epoch 26/30\n",
            "32/32 [==============================] - 17s 537ms/step - loss: 1.8973 - accuracy: 0.3960\n",
            "Epoch 27/30\n",
            "32/32 [==============================] - 17s 543ms/step - loss: 1.8870 - accuracy: 0.4060\n",
            "Epoch 28/30\n",
            "32/32 [==============================] - 17s 540ms/step - loss: 1.9016 - accuracy: 0.3990\n",
            "Epoch 29/30\n",
            "32/32 [==============================] - 17s 538ms/step - loss: 1.8733 - accuracy: 0.4067\n",
            "Epoch 30/30\n",
            "32/32 [==============================] - 17s 535ms/step - loss: 1.8718 - accuracy: 0.4047\n"
          ]
        },
        {
          "output_type": "execute_result",
          "data": {
            "text/plain": [
              "<keras.callbacks.History at 0x7fd24fac2850>"
            ]
          },
          "metadata": {},
          "execution_count": 26
        }
      ]
    },
    {
      "cell_type": "code",
      "source": [
        "import gc \n",
        "del mel_yamnet\n",
        "gc.collect() "
      ],
      "metadata": {
        "id": "4nuVuy41x9vu",
        "colab": {
          "base_uri": "https://localhost:8080/"
        },
        "outputId": "a5ef8fd2-cee0-466f-d6e8-06d608cc65a8"
      },
      "execution_count": null,
      "outputs": [
        {
          "output_type": "execute_result",
          "data": {
            "text/plain": [
              "2200"
            ]
          },
          "metadata": {},
          "execution_count": 35
        }
      ]
    }
  ],
  "metadata": {
    "colab": {
      "collapsed_sections": [],
      "name": "YamnetFromWeights.ipynb",
      "provenance": []
    },
    "gpuClass": "standard",
    "kernelspec": {
      "display_name": "Python 3",
      "language": "python",
      "name": "python3"
    },
    "language_info": {
      "codemirror_mode": {
        "name": "ipython",
        "version": 3
      },
      "file_extension": ".py",
      "mimetype": "text/x-python",
      "name": "python",
      "nbconvert_exporter": "python",
      "pygments_lexer": "ipython3",
      "version": "3.7.9"
    }
  },
  "nbformat": 4,
  "nbformat_minor": 0
}